{
 "cells": [
  {
   "cell_type": "code",
   "execution_count": 3,
   "id": "b05a8930",
   "metadata": {},
   "outputs": [],
   "source": [
    "import pandas as pd\n",
    "import numpy as np\n",
    "from sklearn.model_selection import train_test_split \n",
    "import matplotlib.pyplot as plt\n",
    "from sklearn.metrics import accuracy_score"
   ]
  },
  {
   "cell_type": "markdown",
   "id": "0495a919",
   "metadata": {},
   "source": [
    "### Loading Datasets"
   ]
  },
  {
   "cell_type": "code",
   "execution_count": 4,
   "id": "f54c9fbe",
   "metadata": {},
   "outputs": [
    {
     "data": {
      "text/html": [
       "<div>\n",
       "<style scoped>\n",
       "    .dataframe tbody tr th:only-of-type {\n",
       "        vertical-align: middle;\n",
       "    }\n",
       "\n",
       "    .dataframe tbody tr th {\n",
       "        vertical-align: top;\n",
       "    }\n",
       "\n",
       "    .dataframe thead th {\n",
       "        text-align: right;\n",
       "    }\n",
       "</style>\n",
       "<table border=\"1\" class=\"dataframe\">\n",
       "  <thead>\n",
       "    <tr style=\"text-align: right;\">\n",
       "      <th></th>\n",
       "      <th>Id</th>\n",
       "      <th>SepalLengthCm</th>\n",
       "      <th>SepalWidthCm</th>\n",
       "      <th>PetalLengthCm</th>\n",
       "      <th>PetalWidthCm</th>\n",
       "      <th>Species</th>\n",
       "    </tr>\n",
       "  </thead>\n",
       "  <tbody>\n",
       "    <tr>\n",
       "      <th>0</th>\n",
       "      <td>1</td>\n",
       "      <td>5.1</td>\n",
       "      <td>3.5</td>\n",
       "      <td>1.4</td>\n",
       "      <td>0.2</td>\n",
       "      <td>Iris-setosa</td>\n",
       "    </tr>\n",
       "    <tr>\n",
       "      <th>1</th>\n",
       "      <td>2</td>\n",
       "      <td>4.9</td>\n",
       "      <td>3.0</td>\n",
       "      <td>1.4</td>\n",
       "      <td>0.2</td>\n",
       "      <td>Iris-setosa</td>\n",
       "    </tr>\n",
       "    <tr>\n",
       "      <th>2</th>\n",
       "      <td>3</td>\n",
       "      <td>4.7</td>\n",
       "      <td>3.2</td>\n",
       "      <td>1.3</td>\n",
       "      <td>0.2</td>\n",
       "      <td>Iris-setosa</td>\n",
       "    </tr>\n",
       "    <tr>\n",
       "      <th>3</th>\n",
       "      <td>4</td>\n",
       "      <td>4.6</td>\n",
       "      <td>3.1</td>\n",
       "      <td>1.5</td>\n",
       "      <td>0.2</td>\n",
       "      <td>Iris-setosa</td>\n",
       "    </tr>\n",
       "    <tr>\n",
       "      <th>4</th>\n",
       "      <td>5</td>\n",
       "      <td>5.0</td>\n",
       "      <td>3.6</td>\n",
       "      <td>1.4</td>\n",
       "      <td>0.2</td>\n",
       "      <td>Iris-setosa</td>\n",
       "    </tr>\n",
       "  </tbody>\n",
       "</table>\n",
       "</div>"
      ],
      "text/plain": [
       "   Id  SepalLengthCm  SepalWidthCm  PetalLengthCm  PetalWidthCm      Species\n",
       "0   1            5.1           3.5            1.4           0.2  Iris-setosa\n",
       "1   2            4.9           3.0            1.4           0.2  Iris-setosa\n",
       "2   3            4.7           3.2            1.3           0.2  Iris-setosa\n",
       "3   4            4.6           3.1            1.5           0.2  Iris-setosa\n",
       "4   5            5.0           3.6            1.4           0.2  Iris-setosa"
      ]
     },
     "execution_count": 4,
     "metadata": {},
     "output_type": "execute_result"
    }
   ],
   "source": [
    "df = pd.read_csv('Iris.csv')\n",
    "df.head()\n",
    "#df.describe()"
   ]
  },
  {
   "cell_type": "markdown",
   "id": "21aa5d70",
   "metadata": {},
   "source": [
    "### Specify the target variable and its distribution"
   ]
  },
  {
   "cell_type": "code",
   "execution_count": 5,
   "id": "4472db96",
   "metadata": {},
   "outputs": [],
   "source": [
    "target = df['Species']"
   ]
  },
  {
   "cell_type": "markdown",
   "id": "a69c47e3",
   "metadata": {},
   "source": [
    "### Split dataset into training and test data"
   ]
  },
  {
   "cell_type": "code",
   "execution_count": 6,
   "id": "072bb774",
   "metadata": {},
   "outputs": [],
   "source": [
    "seed = 7\n",
    "train_data, test_data = train_test_split(df, test_size=0.3, \n",
    "random_state= 7)\n",
    "\n",
    "# shape of the datasets\n",
    "#print('\\nShape of training data :',train_data.shape)\n",
    "#print('\\nShape of testing data :',test_data.shape)\n",
    "# class distribution of the training data\n",
    "#print(pd.value_counts(train_data['species']))\n",
    "# class distribution of the test data\n",
    "#print(pd.value_counts(test_data['species']))"
   ]
  },
  {
   "cell_type": "markdown",
   "id": "bc878bf4",
   "metadata": {},
   "source": [
    "### Balance Split dataset into training and test data"
   ]
  },
  {
   "cell_type": "code",
   "execution_count": 7,
   "id": "a8e2b115",
   "metadata": {},
   "outputs": [],
   "source": [
    "seed = 7\n",
    "train_data, test_data = train_test_split(df, test_size=0.3, \n",
    "random_state=seed, stratify=target)"
   ]
  },
  {
   "cell_type": "markdown",
   "id": "ecbb511f",
   "metadata": {},
   "source": [
    "### Separate the independent and target variables "
   ]
  },
  {
   "cell_type": "code",
   "execution_count": 8,
   "id": "f7583d60",
   "metadata": {},
   "outputs": [],
   "source": [
    "# separate the independent and target variables from training data\n",
    "train_x = train_data.drop(columns=['Species'],axis=1)\n",
    "train_y = train_data['Species']\n",
    "\n",
    "# separate the independent and target variables from test data\n",
    "test_x = test_data.drop(columns=['Species'],axis=1)\n",
    "test_y = test_data['Species']"
   ]
  },
  {
   "cell_type": "markdown",
   "id": "e770a310",
   "metadata": {},
   "source": [
    "### Normalization"
   ]
  },
  {
   "cell_type": "code",
   "execution_count": 9,
   "id": "eaa8c756",
   "metadata": {},
   "outputs": [],
   "source": [
    "\n",
    "from sklearn.preprocessing import MinMaxScaler\n",
    "scaler = MinMaxScaler()\n",
    "train_x = scaler.fit_transform(train_x)\n",
    "test_x = scaler.fit_transform(test_x)\n",
    "#print(train_x)\n",
    "#print(test_x)"
   ]
  },
  {
   "cell_type": "markdown",
   "id": "89b0c3c9",
   "metadata": {},
   "source": [
    "### Standarization"
   ]
  },
  {
   "cell_type": "code",
   "execution_count": 10,
   "id": "1d91173d",
   "metadata": {},
   "outputs": [
    {
     "data": {
      "text/plain": [
       "'\\nfrom sklearn.preprocessing import StandardScaler\\nscaling = StandardScaler()\\ntrain_x = scaling.fit_transform(train_x)\\ntest_x = scaling.fit_transform(test_x)\\n'"
      ]
     },
     "execution_count": 10,
     "metadata": {},
     "output_type": "execute_result"
    }
   ],
   "source": [
    "\"\"\"\n",
    "from sklearn.preprocessing import StandardScaler\n",
    "scaling = StandardScaler()\n",
    "train_x = scaling.fit_transform(train_x)\n",
    "test_x = scaling.fit_transform(test_x)\n",
    "\"\"\""
   ]
  },
  {
   "cell_type": "markdown",
   "id": "e9831fc2",
   "metadata": {},
   "source": [
    "### Decision tree"
   ]
  },
  {
   "cell_type": "code",
   "execution_count": 11,
   "id": "46e642ff",
   "metadata": {},
   "outputs": [
    {
     "name": "stdout",
     "output_type": "stream",
     "text": [
      "\n",
      "Decision Tree Training Accuracy : 1.0\n",
      "\n",
      "Decision Tree Test Accuracy : 0.9777777777777777\n"
     ]
    }
   ],
   "source": [
    "from sklearn.tree import DecisionTreeClassifier\n",
    "\n",
    "dt_model = DecisionTreeClassifier()\n",
    "dt_model.fit(train_x,train_y)\n",
    "\n",
    "# make predictions on training data\n",
    "dt_predictions_train = dt_model.predict(train_x)\n",
    "print('\\nDecision Tree Training Accuracy :', accuracy_score(train_y,dt_predictions_train))\n",
    "\n",
    "# make predictions on test data\n",
    "dt_predictions_test = dt_model.predict(test_x)\n",
    "print('\\nDecision Tree Test Accuracy :', accuracy_score(test_y, dt_predictions_test))"
   ]
  },
  {
   "cell_type": "markdown",
   "id": "6d0eef0d",
   "metadata": {},
   "source": [
    "### Logistic Regression"
   ]
  },
  {
   "cell_type": "code",
   "execution_count": 12,
   "id": "b16ddbb6",
   "metadata": {},
   "outputs": [
    {
     "name": "stdout",
     "output_type": "stream",
     "text": [
      "\n",
      "Logistics Regression Training Accuracy : 0.9904761904761905\n",
      "\n",
      "Logistics Regression Test Accuracy : 0.8888888888888888\n"
     ]
    }
   ],
   "source": [
    "from sklearn.linear_model import LogisticRegression\n",
    "\n",
    "lg_model = LogisticRegression()\n",
    "lg_model.fit(train_x,train_y)\n",
    "\n",
    "# make predictions on training data\n",
    "lg_predictions_train = lg_model.predict(train_x)\n",
    "print('\\nLogistics Regression Training Accuracy :', accuracy_score(train_y,lg_predictions_train))\n",
    "\n",
    "# make predictions on test data\n",
    "lg_predictions_test = lg_model.predict(test_x)\n",
    "print('\\nLogistics Regression Test Accuracy :', accuracy_score(test_y, lg_predictions_test))"
   ]
  },
  {
   "cell_type": "markdown",
   "id": "5ef0a5ff",
   "metadata": {},
   "source": [
    "### SVM "
   ]
  },
  {
   "cell_type": "code",
   "execution_count": 13,
   "id": "c20ae1d4",
   "metadata": {},
   "outputs": [
    {
     "name": "stdout",
     "output_type": "stream",
     "text": [
      "\n",
      "SVM Train Accuracy : 1.0\n",
      "\n",
      "SVM Test Accuracy : 1.0\n"
     ]
    }
   ],
   "source": [
    "from sklearn.svm import SVC\n",
    "\n",
    "svc_model = SVC()\n",
    "svc_model.fit(train_x,train_y)\n",
    "\n",
    "# make predictions on test data\n",
    "svc_predict_train = svc_model.predict(train_x)\n",
    "print('\\nSVM Train Accuracy :', accuracy_score(train_y, svc_predict_train))\n",
    "\n",
    "# make predictions on test data\n",
    "svc_predict_test = svc_model.predict(test_x)\n",
    "print('\\nSVM Test Accuracy :', accuracy_score(test_y, svc_predict_test))\n",
    "#from sklearn.metrics import classification_report,confusion_matrix,accuracy_score\n"
   ]
  },
  {
   "cell_type": "markdown",
   "id": "3b39d7a5",
   "metadata": {},
   "source": [
    "### Naive Bayes Classifier"
   ]
  },
  {
   "cell_type": "code",
   "execution_count": 14,
   "id": "65dcaf24",
   "metadata": {},
   "outputs": [
    {
     "name": "stdout",
     "output_type": "stream",
     "text": [
      "\n",
      "Naive Bayes Train Accuracy : 1.0\n",
      "\n",
      "Naive Bayes Test Accuracy : 0.9333333333333333\n"
     ]
    }
   ],
   "source": [
    "from sklearn.naive_bayes import GaussianNB\n",
    "\n",
    "nb_model = GaussianNB()\n",
    "nb_model.fit(train_x,train_y)\n",
    "\n",
    "# make predictions on test data\n",
    "nb_predict_train = nb_model.predict(train_x)\n",
    "print('\\nNaive Bayes Train Accuracy :', accuracy_score(train_y, nb_predict_train))\n",
    "\n",
    "# make predictions on test data\n",
    "nb_predict_test = nb_model.predict(test_x)\n",
    "print('\\nNaive Bayes Test Accuracy :', accuracy_score(test_y,nb_predict_test))"
   ]
  },
  {
   "cell_type": "markdown",
   "id": "a177d271",
   "metadata": {},
   "source": [
    "### KNN"
   ]
  },
  {
   "cell_type": "code",
   "execution_count": 15,
   "id": "de9be5ef",
   "metadata": {},
   "outputs": [
    {
     "name": "stdout",
     "output_type": "stream",
     "text": [
      "\n",
      "KNN Training Accuracy : 1.0\n",
      "\n",
      "KNN Test Accuracy : 0.9777777777777777\n"
     ]
    }
   ],
   "source": [
    "from sklearn.neighbors import KNeighborsClassifier\n",
    "\n",
    "knn_model = KNeighborsClassifier(n_neighbors=3)\n",
    "knn_model.fit(train_x,train_y)\n",
    "\n",
    "# make predictions on training data\n",
    "knn_predictions_train = knn_model.predict(train_x)\n",
    "print('\\nKNN Training Accuracy :', accuracy_score(train_y,knn_predictions_train))\n",
    "\n",
    "# make predictions on test data\n",
    "knn_prediction_test = knn_model.predict(test_x)\n",
    "print('\\nKNN Test Accuracy :', accuracy_score(test_y,knn_prediction_test))\n"
   ]
  },
  {
   "cell_type": "markdown",
   "id": "b22ac469",
   "metadata": {},
   "source": [
    "### Model Comparison"
   ]
  },
  {
   "cell_type": "markdown",
   "id": "bff2b03f",
   "metadata": {},
   "source": [
    "Data Accuracy"
   ]
  },
  {
   "cell_type": "markdown",
   "id": "7c78caf7",
   "metadata": {},
   "source": []
  },
  {
   "cell_type": "code",
   "execution_count": 1,
   "id": "5ae6f00c",
   "metadata": {},
   "outputs": [
    {
     "ename": "NameError",
     "evalue": "name 'pd' is not defined",
     "output_type": "error",
     "traceback": [
      "\u001b[1;31m---------------------------------------------------------------------------\u001b[0m",
      "\u001b[1;31mNameError\u001b[0m                                 Traceback (most recent call last)",
      "Cell \u001b[1;32mIn[1], line 1\u001b[0m\n\u001b[1;32m----> 1\u001b[0m compare \u001b[38;5;241m=\u001b[39m pd\u001b[38;5;241m.\u001b[39mDataFrame({\u001b[38;5;124m'\u001b[39m\u001b[38;5;124mModel\u001b[39m\u001b[38;5;124m'\u001b[39m: [\u001b[38;5;124m'\u001b[39m\u001b[38;5;124mDecision tree\u001b[39m\u001b[38;5;124m'\u001b[39m,\n\u001b[0;32m      2\u001b[0m                                   \u001b[38;5;124m'\u001b[39m\u001b[38;5;124mLogistic Regression\u001b[39m\u001b[38;5;124m'\u001b[39m, \n\u001b[0;32m      3\u001b[0m                                   \u001b[38;5;124m'\u001b[39m\u001b[38;5;124mSupport Vector Machine\u001b[39m\u001b[38;5;124m'\u001b[39m,\n\u001b[0;32m      4\u001b[0m                                   \u001b[38;5;124m'\u001b[39m\u001b[38;5;124mNaive Bayes Classifier\u001b[39m\u001b[38;5;124m'\u001b[39m,\n\u001b[0;32m      5\u001b[0m                                   \u001b[38;5;124m'\u001b[39m\u001b[38;5;124mK-Nearest Neighbour\u001b[39m\u001b[38;5;124m'\u001b[39m], \n\u001b[0;32m      6\u001b[0m                         \u001b[38;5;124m'\u001b[39m\u001b[38;5;124mTrain Accuracy\u001b[39m\u001b[38;5;124m'\u001b[39m: [accuracy_score(test_y, dt_predictions_test),\n\u001b[0;32m      7\u001b[0m                                      accuracy_score(test_y, lg_predictions_test),\n\u001b[0;32m      8\u001b[0m                                      accuracy_score(test_y, svc_predict_test),\n\u001b[0;32m      9\u001b[0m                                      accuracy_score(test_y, nb_predict_test),\n\u001b[0;32m     10\u001b[0m                                      accuracy_score(test_y,knn_prediction_test)],\n\u001b[0;32m     11\u001b[0m                        \n\u001b[0;32m     12\u001b[0m                        \u001b[38;5;124m'\u001b[39m\u001b[38;5;124mTest Accuracy\u001b[39m\u001b[38;5;124m'\u001b[39m: [accuracy_score(train_y, dt_predictions_train),\n\u001b[0;32m     13\u001b[0m                                      accuracy_score(train_y, lg_predictions_train),\n\u001b[0;32m     14\u001b[0m                                      accuracy_score(train_y, svc_predict_train),\n\u001b[0;32m     15\u001b[0m                                      accuracy_score(train_y, nb_predict_train),\n\u001b[0;32m     16\u001b[0m                                      accuracy_score(train_y,knn_predictions_train)]})\n\u001b[0;32m     17\u001b[0m compare \u001b[38;5;241m=\u001b[39m compare\u001b[38;5;241m.\u001b[39mset_index(\u001b[38;5;124m'\u001b[39m\u001b[38;5;124mTest Accuracy\u001b[39m\u001b[38;5;124m'\u001b[39m)\n\u001b[0;32m     18\u001b[0m \u001b[38;5;66;03m#compare=compare.sort_values(by = 'Accuracy', ascending = False)\u001b[39;00m\n",
      "\u001b[1;31mNameError\u001b[0m: name 'pd' is not defined"
     ]
    }
   ],
   "source": [
    "compare = pd.DataFrame({'Model': ['Decision tree',\n",
    "                                  'Logistic Regression', \n",
    "                                  'Support Vector Machine',\n",
    "                                  'Naive Bayes Classifier',\n",
    "                                  'K-Nearest Neighbour'], \n",
    "                        'Train Accuracy': [accuracy_score(test_y, dt_predictions_test),\n",
    "                                     accuracy_score(test_y, lg_predictions_test),\n",
    "                                     accuracy_score(test_y, svc_predict_test),\n",
    "                                     accuracy_score(test_y, nb_predict_test),\n",
    "                                     accuracy_score(test_y,knn_prediction_test)],\n",
    "                       \n",
    "                       'Test Accuracy': [accuracy_score(train_y, dt_predictions_train),\n",
    "                                     accuracy_score(train_y, lg_predictions_train),\n",
    "                                     accuracy_score(train_y, svc_predict_train),\n",
    "                                     accuracy_score(train_y, nb_predict_train),\n",
    "                                     accuracy_score(train_y,knn_predictions_train)]})\n",
    "compare = compare.set_index('Test Accuracy')\n",
    "#compare=compare.sort_values(by = 'Accuracy', ascending = False)\n",
    "compare.head()\n"
   ]
  },
  {
   "cell_type": "code",
   "execution_count": null,
   "id": "8a3436c6",
   "metadata": {},
   "outputs": [],
   "source": []
  },
  {
   "cell_type": "markdown",
   "id": "fa597d84",
   "metadata": {},
   "source": [
    "## Second Assignment Start\n",
    "## Confusion Matrix"
   ]
  },
  {
   "cell_type": "code",
   "execution_count": null,
   "id": "79b61d18",
   "metadata": {},
   "outputs": [],
   "source": []
  },
  {
   "cell_type": "code",
   "execution_count": null,
   "id": "3fcc4a23",
   "metadata": {},
   "outputs": [],
   "source": []
  },
  {
   "cell_type": "code",
   "execution_count": null,
   "id": "dca81b59",
   "metadata": {},
   "outputs": [],
   "source": []
  },
  {
   "cell_type": "code",
   "execution_count": null,
   "id": "dd6a5a6e",
   "metadata": {},
   "outputs": [],
   "source": []
  },
  {
   "cell_type": "code",
   "execution_count": null,
   "id": "21fe0182",
   "metadata": {},
   "outputs": [],
   "source": []
  },
  {
   "cell_type": "code",
   "execution_count": null,
   "id": "95166a75",
   "metadata": {},
   "outputs": [],
   "source": []
  },
  {
   "cell_type": "code",
   "execution_count": null,
   "id": "c3695fca",
   "metadata": {},
   "outputs": [],
   "source": []
  },
  {
   "cell_type": "code",
   "execution_count": null,
   "id": "4476d817",
   "metadata": {},
   "outputs": [],
   "source": []
  },
  {
   "cell_type": "code",
   "execution_count": null,
   "id": "4fa341c4",
   "metadata": {},
   "outputs": [],
   "source": []
  },
  {
   "cell_type": "code",
   "execution_count": null,
   "id": "5afbdaf4",
   "metadata": {},
   "outputs": [],
   "source": []
  }
 ],
 "metadata": {
  "kernelspec": {
   "display_name": "Python 3 (ipykernel)",
   "language": "python",
   "name": "python3"
  },
  "language_info": {
   "codemirror_mode": {
    "name": "ipython",
    "version": 3
   },
   "file_extension": ".py",
   "mimetype": "text/x-python",
   "name": "python",
   "nbconvert_exporter": "python",
   "pygments_lexer": "ipython3",
   "version": "3.11.5"
  }
 },
 "nbformat": 4,
 "nbformat_minor": 5
}
