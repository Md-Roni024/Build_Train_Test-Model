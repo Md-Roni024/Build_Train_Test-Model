{
 "cells": [
  {
   "cell_type": "code",
   "execution_count": 3,
   "id": "f4a43dbe",
   "metadata": {},
   "outputs": [],
   "source": [
    "import pandas as pd\n",
    "import numpy as np\n",
    "from sklearn.model_selection import train_test_split \n",
    "import matplotlib.pyplot as plt\n",
    "from sklearn.metrics import (\n",
    "    confusion_matrix,\n",
    "    accuracy_score,\n",
    "    precision_score,\n",
    "    recall_score,\n",
    "    f1_score\n",
    ")\n",
    "from sklearn.metrics import classification_report"
   ]
  },
  {
   "cell_type": "markdown",
   "id": "c9f8b72f",
   "metadata": {},
   "source": [
    "## Loading Datasets"
   ]
  },
  {
   "cell_type": "code",
   "execution_count": 4,
   "id": "bf62aeff",
   "metadata": {},
   "outputs": [
    {
     "data": {
      "text/html": [
       "<div>\n",
       "<style scoped>\n",
       "    .dataframe tbody tr th:only-of-type {\n",
       "        vertical-align: middle;\n",
       "    }\n",
       "\n",
       "    .dataframe tbody tr th {\n",
       "        vertical-align: top;\n",
       "    }\n",
       "\n",
       "    .dataframe thead th {\n",
       "        text-align: right;\n",
       "    }\n",
       "</style>\n",
       "<table border=\"1\" class=\"dataframe\">\n",
       "  <thead>\n",
       "    <tr style=\"text-align: right;\">\n",
       "      <th></th>\n",
       "      <th>Id</th>\n",
       "      <th>SepalLengthCm</th>\n",
       "      <th>SepalWidthCm</th>\n",
       "      <th>PetalLengthCm</th>\n",
       "      <th>PetalWidthCm</th>\n",
       "      <th>Species</th>\n",
       "    </tr>\n",
       "  </thead>\n",
       "  <tbody>\n",
       "    <tr>\n",
       "      <th>0</th>\n",
       "      <td>1</td>\n",
       "      <td>5.1</td>\n",
       "      <td>3.5</td>\n",
       "      <td>1.4</td>\n",
       "      <td>0.2</td>\n",
       "      <td>Iris-setosa</td>\n",
       "    </tr>\n",
       "    <tr>\n",
       "      <th>1</th>\n",
       "      <td>2</td>\n",
       "      <td>4.9</td>\n",
       "      <td>3.0</td>\n",
       "      <td>1.4</td>\n",
       "      <td>0.2</td>\n",
       "      <td>Iris-setosa</td>\n",
       "    </tr>\n",
       "    <tr>\n",
       "      <th>2</th>\n",
       "      <td>3</td>\n",
       "      <td>4.7</td>\n",
       "      <td>3.2</td>\n",
       "      <td>1.3</td>\n",
       "      <td>0.2</td>\n",
       "      <td>Iris-setosa</td>\n",
       "    </tr>\n",
       "    <tr>\n",
       "      <th>3</th>\n",
       "      <td>4</td>\n",
       "      <td>4.6</td>\n",
       "      <td>3.1</td>\n",
       "      <td>1.5</td>\n",
       "      <td>0.2</td>\n",
       "      <td>Iris-setosa</td>\n",
       "    </tr>\n",
       "    <tr>\n",
       "      <th>4</th>\n",
       "      <td>5</td>\n",
       "      <td>5.0</td>\n",
       "      <td>3.6</td>\n",
       "      <td>1.4</td>\n",
       "      <td>0.2</td>\n",
       "      <td>Iris-setosa</td>\n",
       "    </tr>\n",
       "  </tbody>\n",
       "</table>\n",
       "</div>"
      ],
      "text/plain": [
       "   Id  SepalLengthCm  SepalWidthCm  PetalLengthCm  PetalWidthCm      Species\n",
       "0   1            5.1           3.5            1.4           0.2  Iris-setosa\n",
       "1   2            4.9           3.0            1.4           0.2  Iris-setosa\n",
       "2   3            4.7           3.2            1.3           0.2  Iris-setosa\n",
       "3   4            4.6           3.1            1.5           0.2  Iris-setosa\n",
       "4   5            5.0           3.6            1.4           0.2  Iris-setosa"
      ]
     },
     "execution_count": 4,
     "metadata": {},
     "output_type": "execute_result"
    }
   ],
   "source": [
    "df = pd.read_csv('Iris.csv')\n",
    "df.head()\n",
    "#df.describe()"
   ]
  },
  {
   "cell_type": "markdown",
   "id": "17f9f7fe",
   "metadata": {},
   "source": [
    "## Specify the target variable and its distribution"
   ]
  },
  {
   "cell_type": "code",
   "execution_count": 5,
   "id": "8ce93fda",
   "metadata": {},
   "outputs": [],
   "source": [
    "target = df['Species']"
   ]
  },
  {
   "cell_type": "markdown",
   "id": "7ef65052",
   "metadata": {},
   "source": [
    "## Split dataset into training and test data"
   ]
  },
  {
   "cell_type": "code",
   "execution_count": 6,
   "id": "172c955c",
   "metadata": {},
   "outputs": [],
   "source": [
    "seed = 7\n",
    "train_data, test_data = train_test_split(df, test_size=0.3, \n",
    "random_state= 7)"
   ]
  },
  {
   "cell_type": "markdown",
   "id": "664ed28f",
   "metadata": {},
   "source": [
    "## Balance Split dataset into training and test data"
   ]
  },
  {
   "cell_type": "code",
   "execution_count": 7,
   "id": "910f4966",
   "metadata": {},
   "outputs": [],
   "source": [
    "seed = 7\n",
    "train_data, test_data = train_test_split(df, test_size=0.3, \n",
    "random_state=seed, stratify=target)"
   ]
  },
  {
   "cell_type": "markdown",
   "id": "1031064f",
   "metadata": {},
   "source": [
    "## Separate the independent and target variables"
   ]
  },
  {
   "cell_type": "code",
   "execution_count": 8,
   "id": "c4624552",
   "metadata": {},
   "outputs": [],
   "source": [
    "# separate the independent and target variables from training data\n",
    "train_x = train_data.drop(columns=['Species'],axis=1)\n",
    "train_y = train_data['Species']\n",
    "# separate the independent and target variables from test data\n",
    "test_x = test_data.drop(columns=['Species'],axis=1)\n",
    "test_y = test_data['Species']"
   ]
  },
  {
   "cell_type": "markdown",
   "id": "6d49364f",
   "metadata": {},
   "source": [
    "## Normalization"
   ]
  },
  {
   "cell_type": "code",
   "execution_count": 9,
   "id": "beae415a",
   "metadata": {},
   "outputs": [],
   "source": [
    "from sklearn.preprocessing import MinMaxScaler\n",
    "scaler = MinMaxScaler()\n",
    "train_x = scaler.fit_transform(train_x)\n",
    "test_x = scaler.fit_transform(test_x)\n",
    "#print(train_x)\n",
    "#print(test_x)"
   ]
  },
  {
   "cell_type": "markdown",
   "id": "cfffeb4f",
   "metadata": {},
   "source": [
    "## Standarization"
   ]
  },
  {
   "cell_type": "code",
   "execution_count": 10,
   "id": "7db5e8af",
   "metadata": {},
   "outputs": [
    {
     "data": {
      "text/plain": [
       "'\\nfrom sklearn.preprocessing import StandardScaler\\nscaling = StandardScaler()\\ntrain_x = scaling.fit_transform(train_x)\\ntest_x = scaling.fit_transform(test_x)\\n'"
      ]
     },
     "execution_count": 10,
     "metadata": {},
     "output_type": "execute_result"
    }
   ],
   "source": [
    "\"\"\"\n",
    "from sklearn.preprocessing import StandardScaler\n",
    "scaling = StandardScaler()\n",
    "train_x = scaling.fit_transform(train_x)\n",
    "test_x = scaling.fit_transform(test_x)\n",
    "\"\"\""
   ]
  },
  {
   "cell_type": "markdown",
   "id": "e87498a5",
   "metadata": {},
   "source": [
    "## KNN\n"
   ]
  },
  {
   "cell_type": "code",
   "execution_count": 11,
   "id": "282c7ff4",
   "metadata": {},
   "outputs": [],
   "source": [
    "from sklearn.neighbors import KNeighborsClassifier\n",
    "\n",
    "knn_model = KNeighborsClassifier(n_neighbors=3)\n",
    "knn_model.fit(train_x,train_y)\n",
    "\n",
    "# make predictions on training data\n",
    "knn_predictions_train = knn_model.predict(train_x)\n",
    "#print('\\nKNN Training Accuracy :', accuracy_score(train_y,knn_predictions_train))\n",
    "\n",
    "# make predictions on test data\n",
    "knn_prediction_test = knn_model.predict(test_x)\n",
    "#print('\\nKNN Test Accuracy :', accuracy_score(test_y,knn_prediction_test))"
   ]
  },
  {
   "cell_type": "markdown",
   "id": "44bcaf68",
   "metadata": {},
   "source": [
    "## Comparison Table"
   ]
  },
  {
   "cell_type": "code",
   "execution_count": 12,
   "id": "7a65a2f4",
   "metadata": {},
   "outputs": [
    {
     "data": {
      "text/html": [
       "<div>\n",
       "<style scoped>\n",
       "    .dataframe tbody tr th:only-of-type {\n",
       "        vertical-align: middle;\n",
       "    }\n",
       "\n",
       "    .dataframe tbody tr th {\n",
       "        vertical-align: top;\n",
       "    }\n",
       "\n",
       "    .dataframe thead th {\n",
       "        text-align: right;\n",
       "    }\n",
       "</style>\n",
       "<table border=\"1\" class=\"dataframe\">\n",
       "  <thead>\n",
       "    <tr style=\"text-align: right;\">\n",
       "      <th></th>\n",
       "      <th>Model</th>\n",
       "      <th>Train Accuracy</th>\n",
       "      <th>Test Accuracy</th>\n",
       "    </tr>\n",
       "  </thead>\n",
       "  <tbody>\n",
       "    <tr>\n",
       "      <th>0</th>\n",
       "      <td>K-Nearest Neighbour</td>\n",
       "      <td>0.977778</td>\n",
       "      <td>1.0</td>\n",
       "    </tr>\n",
       "  </tbody>\n",
       "</table>\n",
       "</div>"
      ],
      "text/plain": [
       "                 Model  Train Accuracy  Test Accuracy\n",
       "0  K-Nearest Neighbour        0.977778            1.0"
      ]
     },
     "execution_count": 12,
     "metadata": {},
     "output_type": "execute_result"
    }
   ],
   "source": [
    "compare = pd.DataFrame({'Model': ['K-Nearest Neighbour'], \n",
    "                        'Train Accuracy': [accuracy_score(test_y,knn_prediction_test)],\n",
    "                       'Test Accuracy': [accuracy_score(train_y,knn_predictions_train)]})\n",
    "#compare = compare.set_index('Accuracy')\n",
    "#compare=compare.sort_values(by = 'Accuracy', ascending = False)\n",
    "compare.head()"
   ]
  },
  {
   "cell_type": "markdown",
   "id": "a08f1a2b",
   "metadata": {},
   "source": [
    "## Confusion Matrix"
   ]
  },
  {
   "cell_type": "code",
   "execution_count": 13,
   "id": "7a61147e",
   "metadata": {},
   "outputs": [
    {
     "name": "stdout",
     "output_type": "stream",
     "text": [
      "                 precision    recall  f1-score   support\n",
      "\n",
      "    Iris-setosa       1.00      1.00      1.00        15\n",
      "Iris-versicolor       0.94      1.00      0.97        15\n",
      " Iris-virginica       1.00      0.93      0.97        15\n",
      "\n",
      "       accuracy                           0.98        45\n",
      "      macro avg       0.98      0.98      0.98        45\n",
      "   weighted avg       0.98      0.98      0.98        45\n",
      "\n"
     ]
    }
   ],
   "source": [
    "print(classification_report(test_y,knn_prediction_test))"
   ]
  },
  {
   "cell_type": "code",
   "execution_count": 14,
   "id": "229ec164",
   "metadata": {},
   "outputs": [
    {
     "data": {
      "text/plain": [
       "array([[15,  0,  0],\n",
       "       [ 0, 15,  0],\n",
       "       [ 0,  1, 14]], dtype=int64)"
      ]
     },
     "execution_count": 14,
     "metadata": {},
     "output_type": "execute_result"
    }
   ],
   "source": [
    "confusion_matrix(test_y,knn_prediction_test)"
   ]
  },
  {
   "cell_type": "code",
   "execution_count": 15,
   "id": "91d8fd18",
   "metadata": {},
   "outputs": [
    {
     "name": "stdout",
     "output_type": "stream",
     "text": [
      "0 15 1\n"
     ]
    }
   ],
   "source": [
    "s_set,ver_set,vir_set,s_ver,ver_ver,vir_ver,s_vir,ver_vir,vir_vir=confusion_matrix(test_y,knn_prediction_test).ravel()\n",
    "print(ver_set,ver_ver,ver_vir)"
   ]
  },
  {
   "cell_type": "code",
   "execution_count": 16,
   "id": "b717c937",
   "metadata": {},
   "outputs": [
    {
     "data": {
      "text/html": [
       "<div>\n",
       "<style scoped>\n",
       "    .dataframe tbody tr th:only-of-type {\n",
       "        vertical-align: middle;\n",
       "    }\n",
       "\n",
       "    .dataframe tbody tr th {\n",
       "        vertical-align: top;\n",
       "    }\n",
       "\n",
       "    .dataframe thead th {\n",
       "        text-align: right;\n",
       "    }\n",
       "</style>\n",
       "<table border=\"1\" class=\"dataframe\">\n",
       "  <thead>\n",
       "    <tr style=\"text-align: right;\">\n",
       "      <th></th>\n",
       "      <th>_</th>\n",
       "      <th>Iris-setosa</th>\n",
       "      <th>Iris-versicolor</th>\n",
       "      <th>Iris-virginica</th>\n",
       "    </tr>\n",
       "  </thead>\n",
       "  <tbody>\n",
       "    <tr>\n",
       "      <th>0</th>\n",
       "      <td>Iris-setosa</td>\n",
       "      <td>15</td>\n",
       "      <td>0</td>\n",
       "      <td>0</td>\n",
       "    </tr>\n",
       "    <tr>\n",
       "      <th>1</th>\n",
       "      <td>Iris-versicolor</td>\n",
       "      <td>0</td>\n",
       "      <td>15</td>\n",
       "      <td>0</td>\n",
       "    </tr>\n",
       "    <tr>\n",
       "      <th>2</th>\n",
       "      <td>Iris-virginica</td>\n",
       "      <td>0</td>\n",
       "      <td>1</td>\n",
       "      <td>14</td>\n",
       "    </tr>\n",
       "  </tbody>\n",
       "</table>\n",
       "</div>"
      ],
      "text/plain": [
       "                 _  Iris-setosa  Iris-versicolor  Iris-virginica\n",
       "0      Iris-setosa           15                0               0\n",
       "1  Iris-versicolor            0               15               0\n",
       "2   Iris-virginica            0                1              14"
      ]
     },
     "execution_count": 16,
     "metadata": {},
     "output_type": "execute_result"
    }
   ],
   "source": [
    "compare = pd.DataFrame({'_': ['Iris-setosa','Iris-versicolor','Iris-virginica'], \n",
    "                        'Iris-setosa': [s_set,s_ver,s_vir],\n",
    "                       'Iris-versicolor': [ver_set,ver_ver,ver_vir],\n",
    "                       'Iris-virginica': [vir_set,vir_ver,vir_vir]})\n",
    "#compare = compare.set_index('')\n",
    "#compare=compare.sort_values(by = 'Accuracy', ascending = False)\n",
    "compare.head()"
   ]
  },
  {
   "cell_type": "code",
   "execution_count": 17,
   "id": "4d9cea9e",
   "metadata": {},
   "outputs": [],
   "source": [
    "#compare = pd.DataFrame({'_': ['1','0'], \n",
    "                        #'1': [s_set,ver_set,vir_set],\n",
    "                       #'Iris-versicolor': [s_ver,ver_ver,vir_ver],\n",
    "                       #'Iris-virginica': [s_vir,ver_vir,vir_vir]})\n",
    "#compare = compare.set_index('')\n",
    "#compare=compare.sort_values(by = 'Accuracy', ascending = False)\n",
    "#compare.head()"
   ]
  },
  {
   "cell_type": "markdown",
   "id": "48a8a94f",
   "metadata": {},
   "source": [
    "### Accuracy"
   ]
  },
  {
   "cell_type": "code",
   "execution_count": null,
   "id": "8729b842",
   "metadata": {},
   "outputs": [],
   "source": []
  },
  {
   "cell_type": "code",
   "execution_count": 18,
   "id": "4d078bc6",
   "metadata": {},
   "outputs": [
    {
     "name": "stdout",
     "output_type": "stream",
     "text": [
      "0.9777777777777777\n"
     ]
    }
   ],
   "source": [
    "#Accuracy Using Function\n",
    "knn_prediction_test = knn_model.predict(test_x)\n",
    "accuracy=accuracy_score(test_y,knn_prediction_test)\n",
    "print(accuracy)"
   ]
  },
  {
   "cell_type": "code",
   "execution_count": 19,
   "id": "5ab585fc",
   "metadata": {},
   "outputs": [
    {
     "name": "stdout",
     "output_type": "stream",
     "text": [
      "0.9777777777777777\n"
     ]
    }
   ],
   "source": [
    "#Accuracy Using Function Manually\n",
    "accuracy_man = (s_set+ver_ver+vir_vir)/(s_set+ver_ver+vir_vir+s_ver+s_vir+ver_set+ver_vir+vir_set+vir_ver)\n",
    "print(accuracy_man)"
   ]
  },
  {
   "cell_type": "markdown",
   "id": "2834463a",
   "metadata": {},
   "source": [
    "## Precision,Recal,F1 Score for IRIS_setosa"
   ]
  },
  {
   "cell_type": "code",
   "execution_count": 20,
   "id": "096237b0",
   "metadata": {},
   "outputs": [
    {
     "name": "stdout",
     "output_type": "stream",
     "text": [
      "15 0 0 30\n",
      "Precision_setosa: 1.0\n",
      "1.0\n",
      "1.0\n"
     ]
    }
   ],
   "source": [
    "#Confusion Matrix For Class Iris_setosa\n",
    "TP = (s_set)\n",
    "FP=ver_set+s_vir\n",
    "FN=ver_set+vir_set\n",
    "TN = (ver_ver+vir_ver+ver_vir+vir_vir)\n",
    "print(TP,FP,FN,TN)\n",
    "#Iris_setosa\n",
    "precision_setosa = (TP)/(TP+FP)\n",
    "recal_setosa = (TP)/(TP+FN)\n",
    "f1_setosa = 2*((precision_setosa*recal_setosa)/(precision_setosa+recal_setosa))\n",
    "print(\"Precision_setosa:\",precision_setosa)\n",
    "print(\"Recal_setosa:\",recal_setosa)\n",
    "print(\"F1_setosa:\",f1_setosa)"
   ]
  },
  {
   "cell_type": "markdown",
   "id": "adfdc5c5",
   "metadata": {},
   "source": [
    "## Precision,Recal,F1 Score Iris_Versicolor"
   ]
  },
  {
   "cell_type": "code",
   "execution_count": 30,
   "id": "c6703e3f",
   "metadata": {},
   "outputs": [
    {
     "name": "stdout",
     "output_type": "stream",
     "text": [
      "15 1 0 29\n",
      "0.9375\n",
      "1.0\n",
      "0.967741935483871\n"
     ]
    }
   ],
   "source": [
    "#Confusion Matrix For Class Iris_Versicolor\n",
    "TP = (ver_ver)\n",
    "FP=(ver_set+ver_vir)\n",
    "FN=(s_ver+vir_ver)\n",
    "TN = (s_set+vir_set+s_vir+vir_vir)\n",
    "print(TP,FP,FN,TN)\n",
    "#Iris_setosa\n",
    "precision_versicolor = (TP)/(TP+FP)\n",
    "recal_versicolor = (TP)/(TP+FN)\n",
    "f1_versicolor = 2*((precision_versicolor*recal_versicolor)/(precision_versicolor+recal_versicolor))\n",
    "print(\"Precision_Versicolor:\",precision_versicolor)\n",
    "print(\"Recall_Versicolor:\",recal_versicolor)\n",
    "print(\"F1_Versicolor:\",f1_versicolor)"
   ]
  },
  {
   "cell_type": "markdown",
   "id": "046afafe",
   "metadata": {},
   "source": [
    "## Precision,Recal,F1 Score IRIS_Verginica"
   ]
  },
  {
   "cell_type": "code",
   "execution_count": 32,
   "id": "c72c7dd1",
   "metadata": {},
   "outputs": [
    {
     "name": "stdout",
     "output_type": "stream",
     "text": [
      "14 0 1 30\n",
      "1.0\n",
      "0.9333333333333333\n",
      "0.9655172413793104\n"
     ]
    }
   ],
   "source": [
    "#Confusion Matrix For Class Iris_setosa\n",
    "TP = (vir_vir)\n",
    "FP=(vir_set+vir_ver)\n",
    "FN=(s_vir+ver_vir)\n",
    "TN = (s_set+ver_set+s_ver+ver_ver)\n",
    "print(TP,FP,FN,TN)\n",
    "#Iris_setosa\n",
    "precision_verginica = (TP)/(TP+FP)\n",
    "recal_verginica = (TP)/(TP+FN)\n",
    "f1_verginica = 2*((precision_verginica*recal_verginica)/(precision_verginica+recal_verginica))\n",
    "print(\"\")\n",
    "print(\"Precesion_Veginica:\",precision_verginica)\n",
    "print(\"Recal_Verginica:\",recal_verginica)\n",
    "print(\"F1_verginca:\",f1_verginica)"
   ]
  },
  {
   "cell_type": "code",
   "execution_count": 126,
   "id": "3771a700",
   "metadata": {},
   "outputs": [
    {
     "name": "stdout",
     "output_type": "stream",
     "text": [
      "0.9375\n"
     ]
    }
   ],
   "source": [
    "#Iris_Versicolor\n",
    "precision_versicolor = (ver_ver)/(ver_set+ver_ver+ver_vir)\n",
    "print(precision_versicolor)"
   ]
  },
  {
   "cell_type": "code",
   "execution_count": 129,
   "id": "e97970b7",
   "metadata": {},
   "outputs": [
    {
     "name": "stdout",
     "output_type": "stream",
     "text": [
      "1.0\n"
     ]
    }
   ],
   "source": [
    "#Iris_Vergiinica\n",
    "precision_verginica = (vir_vir)/(vir_set+vir_ver+vir_vir)\n",
    "print(precision_verginica)"
   ]
  },
  {
   "cell_type": "code",
   "execution_count": null,
   "id": "d2094f8e",
   "metadata": {},
   "outputs": [],
   "source": []
  }
 ],
 "metadata": {
  "kernelspec": {
   "display_name": "Python 3 (ipykernel)",
   "language": "python",
   "name": "python3"
  },
  "language_info": {
   "codemirror_mode": {
    "name": "ipython",
    "version": 3
   },
   "file_extension": ".py",
   "mimetype": "text/x-python",
   "name": "python",
   "nbconvert_exporter": "python",
   "pygments_lexer": "ipython3",
   "version": "3.11.5"
  }
 },
 "nbformat": 4,
 "nbformat_minor": 5
}
